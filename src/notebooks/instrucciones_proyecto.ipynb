{
 "cells": [
  {
   "attachments": {},
   "cell_type": "markdown",
   "metadata": {},
   "source": [
    "# GPT Googler\n",
    "\n",
    "El proyecto final del último módulo del bootcamp de data science, tiene como objetivo la creación de una aplicación web en Python que utilice un modelo preentrenado como GPT para buscar y dar la mejor respuesta a la información solicitada por el usuario mediante la combinación de modelos de lenguaje y google. El proyecto final consistirá en el desarrollo y despliegue de la aplicación.\n",
    "\n",
    "## Objetivos:\n",
    "* Desarrollar una aplicación en Python que se conecte a la API de OpenAI de GPT para responder a la petición de un usuario. Deberá de tener un front end minimalista para que el usuario pueda interaccionar con la herramienta. Deberá investigarse las librerías de  **[langchain](https://python.langchain.com/docs/get_started/introduction.html)** y **[openai](https://platform.openai.com/docs/introduction)**.\n",
    "* Almacenar las preguntas, respuestas y fechas correspondientes en una base de datos desplegada en cloud (AWS).\n",
    "* Desplegar la aplicación en Docker.\n",
    "\n",
    "\n",
    "## Entregable:\n",
    "El entregable del proyecto será un repositorio en Github que contenga:\n",
    "\n",
    "* La aplicación web.\n",
    "* El archivo Dockerfile necesario para desplegar la aplicación en contenedores.\n",
    "* Un archivo README con instrucciones detalladas para el correcto uso del repositorio.\n",
    "* Documentación del proceso de desarrollo y despliegue de la aplicación.\n",
    "\n",
    "<img src=\"img/arquitectura.png\">\n",
    "\n",
    "Estaréis divididos en los 4 grupos utilizados para el taller. Cada grupo deberá hacer su entregable, y el deadline será el **martes 18 a las 9.00**. Cada grupo presentará una demo de máximo 10 minutos."
   ]
  },
  {
   "cell_type": "code",
   "execution_count": null,
   "metadata": {},
   "outputs": [],
   "source": [
    "# pip install google-search-results\n",
    "# pip install langchain\n",
    "# pip install openai"
   ]
  },
  {
   "cell_type": "code",
   "execution_count": 1,
   "metadata": {},
   "outputs": [
    {
     "name": "stdout",
     "output_type": "stream",
     "text": [
      "\n",
      "\n",
      "\u001b[1m> Entering new  chain...\u001b[0m\n",
      "\u001b[32;1m\u001b[1;3m The error message seems to indicate an authentication issue.\n",
      "Action: Search\n",
      "Action Input: docker push authentication issue\u001b[0m\n",
      "Observation: \u001b[36;1m\u001b[1;3mThis error seem to also appear if your system's date/time/timezone are not set correctly. To fix, ensure your system time settings are correct.\u001b[0m\n",
      "Thought:\u001b[32;1m\u001b[1;3m I now know the final answer\n",
      "Final Answer: Check your system's time settings to ensure they are correct.\u001b[0m\n",
      "\n",
      "\u001b[1m> Finished chain.\u001b[0m\n"
     ]
    },
    {
     "data": {
      "text/plain": [
       "\"Check your system's time settings to ensure they are correct.\""
      ]
     },
     "execution_count": 1,
     "metadata": {},
     "output_type": "execute_result"
    }
   ],
   "source": [
    "from langchain.agents import load_tools\n",
    "from langchain.agents import initialize_agent\n",
    "from langchain.llms import OpenAI\n",
    "import os\n",
    "\n",
    "os.environ[\"OPENAI_API_KEY\"] = \"\"\n",
    "os.environ[\"SERPAPI_API_KEY\"] = \"\"\n",
    "\n",
    "\n",
    "# Load the model\n",
    "llm = OpenAI()\n",
    "\n",
    "# Load in some tools to use\n",
    "tools = load_tools([\"serpapi\", \"llm-math\"], llm=llm)\n",
    "\n",
    "# Finally, let's initialize an agent with:\n",
    "# 1. The tools\n",
    "# 2. The language model\n",
    "# 3. The type of agent we want to use.\n",
    "\n",
    "agent = initialize_agent(tools, llm, agent=\"zero-shot-react-description\", verbose=True)\n",
    "\n",
    "\n",
    "# Now let's test it out!\n",
    "agent.run(\"Me ha salido este error, cuál sería una posible solución: docker push vihelmet/app_summer_flask:v1.0 denied: requested access to the resource is denied\")"
   ]
  }
 ],
 "metadata": {
  "kernelspec": {
   "display_name": "Python 3.7.4 64-bit",
   "language": "python",
   "name": "python3"
  },
  "language_info": {
   "codemirror_mode": {
    "name": "ipython",
    "version": 3
   },
   "file_extension": ".py",
   "mimetype": "text/x-python",
   "name": "python",
   "nbconvert_exporter": "python",
   "pygments_lexer": "ipython3",
   "version": "3.10.11"
  },
  "vscode": {
   "interpreter": {
    "hash": "90139cb9a825bf3d63f6f6704e828dbd1ff7edbd4d0c6e906a71235d6efc74af"
   }
  }
 },
 "nbformat": 4,
 "nbformat_minor": 4
}
