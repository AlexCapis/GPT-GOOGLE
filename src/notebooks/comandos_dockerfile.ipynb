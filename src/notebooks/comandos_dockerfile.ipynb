{
 "cells": [
  {
   "cell_type": "markdown",
   "metadata": {},
   "source": [
    "## CRACIÓN DE UNA IMAGEN CON DOCKERFILE"
   ]
  },
  {
   "cell_type": "markdown",
   "metadata": {},
   "source": [
    "### Creación de un dockerfile\n",
    "\n",
    "¿Qué es un dockerfile?\n",
    "- Un Dockerfile es un archivo de texto que contiene las instrucciones para construir la imagen.\n",
    "- Asegúrate de ubicar este archivo en el directorio del proyecto que deseas empaquetar en la imagen. \n",
    "- El documento de docker es imprescindible que se denomine Dockerfile.\n"
   ]
  },
  {
   "cell_type": "markdown",
   "metadata": {},
   "source": [
    "¿Cuál es el contenido de dockerfile?\n",
    "\n",
    "- Para que nuestra imagen se base en python \n",
    "FROM python:3.11.4\n",
    "\n",
    "- Creación de una carpeta donde meter el código fuente de nuestra aplicación. Esta carpeta no hace referencia a la maquina física, sino es en base al contenedor.\n",
    "WORKDIR /app\n",
    "\n",
    "- Indicar al contenedor de donde va a extraer el código\n",
    "COPY . /app\n",
    "\n",
    "- Instalación de las librerias que están en requeriments\n",
    "RUN pip install -r requirements.txt\n",
    "\n",
    "- El puerto\n",
    "EXPOSE 5000\n",
    "\n",
    "- Para que corra la aplicación.\n",
    "CMD [\"python\", \"/app/version_1.0.py\"]"
   ]
  },
  {
   "cell_type": "markdown",
   "metadata": {},
   "source": [
    "¿Comandos necesarios para utilizar en terminal?\n",
    "\n",
    "1. Abre el Docker Desktop\n",
    "2. docker build -t miapp:2.0 .\n",
    "    - **docker build** se utiliza para construir una imagen de Docker a partir del Dockerfile.\n",
    "    - **t** se utiliza para etiquetar la imagen con un nombre y una etiqueta específicos. En este caso, la imagen se etiquetará como \"miapp\" y con la versión \"2.0\".\n",
    "    - El punto **.** al final del comando indica que el Dockerfile se encuentra en el directorio actual\n",
    "3. docker run --name chatgpt -p 5000:5000 miapp:2.0\n",
    "    - **docker run** se utiliza para crear y ejecutar un contenedor a partir de la imagen creada anteriormente.\n",
    "    - El argumento **--name** se utiliza para darle un nombre al contenedor, en este caso, \"chatgpt\". \n",
    "    - El argumento **-p** se utiliza para mapear puertos entre el host y el contenedor.\n",
    "    - El puerto **5000** del host se mapeará al puerto 5000 del contenedor. \n",
    "    - Finalmente, especificamos el nombre de la imagen y la etiqueta que queremos usar para crear el contenedor.\n",
    "\n"
   ]
  }
 ],
 "metadata": {
  "kernelspec": {
   "display_name": "Python 3",
   "language": "python",
   "name": "python3"
  },
  "language_info": {
   "codemirror_mode": {
    "name": "ipython",
    "version": 3
   },
   "file_extension": ".py",
   "mimetype": "text/x-python",
   "name": "python",
   "nbconvert_exporter": "python",
   "pygments_lexer": "ipython3",
   "version": "3.10.11"
  },
  "orig_nbformat": 4
 },
 "nbformat": 4,
 "nbformat_minor": 2
}
