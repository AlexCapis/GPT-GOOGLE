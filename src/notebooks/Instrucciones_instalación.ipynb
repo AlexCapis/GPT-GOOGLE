{
 "cells": [
  {
   "cell_type": "markdown",
   "metadata": {},
   "source": [
    "## Instalación e instrucciones de uso de GPT-GOOGLE"
   ]
  },
  {
   "cell_type": "markdown",
   "metadata": {},
   "source": [
    "<a id=\"0\"></a> <br>\n",
    "### ÍNDICE\n",
    "- [Git clone](#1)\n",
    "- [Creación Dockerfile](#2)\n",
    "- [API keys](#3)\n",
    "- [Comandos para crear imagen Docker](#4)"
   ]
  },
  {
   "cell_type": "markdown",
   "metadata": {},
   "source": [
    "<a id=\"1\"></a> <br>\n",
    "### Git clone"
   ]
  },
  {
   "cell_type": "markdown",
   "metadata": {},
   "source": [
    "Primero de todo en consola tendremos que clonar nuestro repositorio: \"git clone https://github.com/AlexCapis/GPT-GOOGLE.git \""
   ]
  },
  {
   "cell_type": "markdown",
   "metadata": {},
   "source": [
    "<a id=\"2\"></a> <br>\n",
    "### Creación de un dockerfile\n",
    "\n",
    "¿Qué es un dockerfile?\n",
    "- Un Dockerfile es un archivo de texto que contiene las instrucciones para construir la imagen.\n",
    "- Asegúrate de ubicar este archivo en el directorio del proyecto que deseas empaquetar en la imagen. \n",
    "- El documento de docker es imprescindible que se denomine Dockerfile.\n"
   ]
  },
  {
   "cell_type": "markdown",
   "metadata": {},
   "source": [
    "¿Cuál es el contenido de dockerfile?\n",
    "\n",
    "- Para que nuestra imagen se base en python \n",
    "\n",
    "FROM python:3.11.4\n",
    "\n",
    "- Creación de una carpeta donde meter el código fuente de nuestra aplicación. Esta carpeta no hace referencia a la maquina física, sino es en base al contenedor.\n",
    "\n",
    "WORKDIR /app\n",
    "\n",
    "- Indicar al contenedor de donde va a extraer el código\n",
    "\n",
    "COPY . /app\n",
    "\n",
    "- Instalación de las librerias que están en requeriments\n",
    "\n",
    "RUN pip install -r requirements.txt\n",
    "\n",
    "- El puerto\n",
    "\n",
    "EXPOSE 5000\n",
    "\n",
    "- Para que corra la aplicación.\n",
    "\n",
    "CMD [\"python\", \"/app/version_1.0.py\"]"
   ]
  },
  {
   "cell_type": "markdown",
   "metadata": {},
   "source": [
    "[Volver al índice](#0)"
   ]
  },
  {
   "cell_type": "markdown",
   "metadata": {},
   "source": [
    "<a id=\"3\"></a> <br>\n",
    "### API keys , obtención e instalación."
   ]
  },
  {
   "cell_type": "markdown",
   "metadata": {},
   "source": [
    "¿ Que Api keys se deben usar?\n",
    "\n",
    "Para utilizar esta aplicación se debe de estar en la posesión de uso de las siguientes api keys:\n",
    "- La api key perteneciente a Openai, la cual encontrarás en el siguiente [enlace](https://platform.openai.com/account/api-keys).\n",
    "- La api key perteneciente a google, la cual encontrarás en el siguiente [enlace](https://serpapi.com/users/sign_in).\n",
    "\n",
    "Ahora hay que crear un archivo con el nombre 'keys.py' donde tienen que estas keys de la siguiente manera.\n",
    "\n",
    " \n"
   ]
  },
  {
   "cell_type": "code",
   "execution_count": null,
   "metadata": {},
   "outputs": [],
   "source": [
    "gpt = 'personal_key_openai'\n",
    "serpapi = 'personal_key_serpapi' \n",
    "# Solo sustituye tu key personal en cada apartado"
   ]
  },
  {
   "cell_type": "markdown",
   "metadata": {},
   "source": [
    "Este archivo, keys.py tiene que estar en el directorio raiz del repositorio"
   ]
  },
  {
   "cell_type": "markdown",
   "metadata": {},
   "source": [
    "[Volver al índice](#0)"
   ]
  },
  {
   "cell_type": "markdown",
   "metadata": {},
   "source": [
    "<a id=\"4\"></a> <br>\n",
    "### Comandos a usar en terminal para hacer la imagen de docker."
   ]
  },
  {
   "cell_type": "markdown",
   "metadata": {},
   "source": [
    "¿Comandos necesarios para utilizar en terminal?\n",
    "\n",
    "1. Abre el Docker Desktop\n",
    "2. docker build -t miapp:2.0 .\n",
    "    - **docker build** se utiliza para construir una imagen de Docker a partir del Dockerfile.\n",
    "    - **t** se utiliza para etiquetar la imagen con un nombre y una etiqueta específicos. En este caso, la imagen se etiquetará como \"miapp\" y con la versión \"2.0\".\n",
    "    - El punto **.** al final del comando indica que el Dockerfile se encuentra en el directorio actual\n",
    "3. docker run --name chatgpt -p 5000:5000 miapp:2.0\n",
    "    - **docker run** se utiliza para crear y ejecutar un contenedor a partir de la imagen creada anteriormente.\n",
    "    - El argumento **--name** se utiliza para darle un nombre al contenedor, en este caso, \"chatgpt\". \n",
    "    - El argumento **-p** se utiliza para mapear puertos entre el host y el contenedor.\n",
    "    - El puerto **5000** del host se mapeará al puerto 5000 del contenedor. \n",
    "    - Finalmente, especificamos el nombre de la imagen y la etiqueta que queremos usar para crear el contenedor.\n",
    "\n"
   ]
  },
  {
   "cell_type": "markdown",
   "metadata": {},
   "source": [
    "[Volver al índice](#0)"
   ]
  }
 ],
 "metadata": {
  "kernelspec": {
   "display_name": "Python 3",
   "language": "python",
   "name": "python3"
  },
  "language_info": {
   "codemirror_mode": {
    "name": "ipython",
    "version": 3
   },
   "file_extension": ".py",
   "mimetype": "text/x-python",
   "name": "python",
   "nbconvert_exporter": "python",
   "pygments_lexer": "ipython3",
   "version": "3.10.11"
  },
  "orig_nbformat": 4
 },
 "nbformat": 4,
 "nbformat_minor": 2
}
