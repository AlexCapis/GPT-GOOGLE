{
 "cells": [
  {
   "cell_type": "markdown",
   "metadata": {},
   "source": [
    "Aqui os dejo una serie de cosas que he cambiado en mi rama de alex para que me funcione docker, como no sé si está del todo correcto no he hecho un merge, pero aqui os indico una serie de cambios que he ido haciendo para que me vaya docker por si os sirven como guia."
   ]
  },
  {
   "cell_type": "code",
   "execution_count": null,
   "metadata": {},
   "outputs": [],
   "source": [
    "# Primero he tenido que cambiar el requeriments a:\n",
    "flask\n",
    "langchain\n",
    "pymysql\n",
    "openai\n",
    "google-search-results\n"
   ]
  },
  {
   "cell_type": "code",
   "execution_count": null,
   "metadata": {},
   "outputs": [],
   "source": [
    "# También he tenido que cambiar de version_1.0.py\n",
    "    app.run(host=\"0.0.0.0\", port=5000, debug=False) # debug=False\n"
   ]
  },
  {
   "cell_type": "code",
   "execution_count": null,
   "metadata": {},
   "outputs": [],
   "source": [
    "# He tenido que cambiar Dockerfile a:\n",
    "# Para que nuestra imagen se base en python \n",
    "FROM python:3.11.4\n",
    "\n",
    "# Creación de una carpeta donde meter el código fuente de nuestra aplicación. Esta carpeta no hace referencia a la maquina física, sino es en base al contenedor.\n",
    "WORKDIR /app\n",
    "\n",
    "# Indicar al contenedor de donde va a extraer el código\n",
    "COPY . /app\n",
    "\n",
    "RUN pip install -r requirements.txt\n",
    "\n",
    "# El puerto\n",
    "EXPOSE 5000\n",
    "\n",
    "# Para que corra la aplicación.\n",
    "CMD [\"python\", \"/app/version_1.0.py\"]\n"
   ]
  },
  {
   "cell_type": "code",
   "execution_count": null,
   "metadata": {},
   "outputs": [],
   "source": [
    "# Los comandos que he usado en docker para que me haga bien la búsqueda son:\n",
    "docker build -t miapp:2.0 .\n",
    "\n",
    "docker run --name chatgpt -p 5000:5000 miapp:2.0"
   ]
  }
 ],
 "metadata": {
  "language_info": {
   "name": "python"
  },
  "orig_nbformat": 4
 },
 "nbformat": 4,
 "nbformat_minor": 2
}
